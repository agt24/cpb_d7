{
 "cells": [
  {
   "cell_type": "code",
   "execution_count": 1,
   "metadata": {
    "collapsed": false
   },
   "outputs": [],
   "source": [
    "# Import modules and set experiment-specific parameters\n",
    "import copy\n",
    "import os\n",
    "from os.path import join as opj\n",
    "from nipype.pipeline.engine import Workflow, Node, MapNode\n",
    "from nipype.interfaces.io import SelectFiles, DataSink\n",
    "from nipype.interfaces.utility import IdentityInterface\n",
    "from nipype.interfaces.ants import Registration\n",
    "\n",
    "filepath = os.path.dirname( os.path.realpath( '__file__'))\n",
    "datadir = os.path.realpath(os.path.join(filepath, ''))\n",
    "os.chdir(datadir)\n",
    "\n",
    "subject_list = ['d701', 'd702', 'd703', 'd704', 'd705', 'd706', 'd707', \n",
    "                'd708', 'd709', 'd710', 'd711', 'd712', 'd713', 'd714', \n",
    "                'd715', 'd716', 'd717', 'd720', 'd722', 'd723', 'd724', \n",
    "                'd726', 'd727', 'd728', 'd729', 'd730', 'd731', 'd732', \n",
    "                'd734']"
   ]
  },
  {
   "cell_type": "code",
   "execution_count": 2,
   "metadata": {
    "collapsed": false,
    "scrolled": true
   },
   "outputs": [
    {
     "ename": "ValueError",
     "evalue": "Registration requires a value for input 'moving_image'. For a list of required inputs, see Registration.help()",
     "output_type": "error",
     "traceback": [
      "\u001b[0;31m---------------------------------------------------------------------------\u001b[0m",
      "\u001b[0;31mValueError\u001b[0m                                Traceback (most recent call last)",
      "\u001b[0;32m<ipython-input-2-9bb15de6d45e>\u001b[0m in \u001b[0;36m<module>\u001b[0;34m()\u001b[0m\n\u001b[1;32m     38\u001b[0m \u001b[0;34m\u001b[0m\u001b[0m\n\u001b[1;32m     39\u001b[0m \u001b[0mantsreg_rigid\u001b[0m \u001b[0;34m=\u001b[0m \u001b[0mNode\u001b[0m\u001b[0;34m(\u001b[0m\u001b[0mantsreg\u001b[0m\u001b[0;34m,\u001b[0m\u001b[0mname\u001b[0m\u001b[0;34m=\u001b[0m\u001b[0;34m'test_antsreg_rigid'\u001b[0m\u001b[0;34m)\u001b[0m\u001b[0;34m\u001b[0m\u001b[0m\n\u001b[0;32m---> 40\u001b[0;31m \u001b[0mantsreg\u001b[0m\u001b[0;34m.\u001b[0m\u001b[0mcmdline\u001b[0m\u001b[0;34m\u001b[0m\u001b[0m\n\u001b[0m",
      "\u001b[0;32m/data/zhoud4/python/envs/NiPype/lib/python3.5/site-packages/nipype/interfaces/base.py\u001b[0m in \u001b[0;36mcmdline\u001b[0;34m(self)\u001b[0m\n\u001b[1;32m   1606\u001b[0m         \"\"\" `command` plus any arguments (args)\n\u001b[1;32m   1607\u001b[0m         validates arguments and generates command line\"\"\"\n\u001b[0;32m-> 1608\u001b[0;31m         \u001b[0mself\u001b[0m\u001b[0;34m.\u001b[0m\u001b[0m_check_mandatory_inputs\u001b[0m\u001b[0;34m(\u001b[0m\u001b[0;34m)\u001b[0m\u001b[0;34m\u001b[0m\u001b[0m\n\u001b[0m\u001b[1;32m   1609\u001b[0m         \u001b[0mallargs\u001b[0m \u001b[0;34m=\u001b[0m \u001b[0mself\u001b[0m\u001b[0;34m.\u001b[0m\u001b[0m_parse_inputs\u001b[0m\u001b[0;34m(\u001b[0m\u001b[0;34m)\u001b[0m\u001b[0;34m\u001b[0m\u001b[0m\n\u001b[1;32m   1610\u001b[0m         \u001b[0mallargs\u001b[0m\u001b[0;34m.\u001b[0m\u001b[0minsert\u001b[0m\u001b[0;34m(\u001b[0m\u001b[0;36m0\u001b[0m\u001b[0;34m,\u001b[0m \u001b[0mself\u001b[0m\u001b[0;34m.\u001b[0m\u001b[0mcmd\u001b[0m\u001b[0;34m)\u001b[0m\u001b[0;34m\u001b[0m\u001b[0m\n",
      "\u001b[0;32m/data/zhoud4/python/envs/NiPype/lib/python3.5/site-packages/nipype/interfaces/base.py\u001b[0m in \u001b[0;36m_check_mandatory_inputs\u001b[0;34m(self)\u001b[0m\n\u001b[1;32m    938\u001b[0m                        \u001b[0;34m\"For a list of required inputs, see %s.help()\"\u001b[0m \u001b[0;34m%\u001b[0m\u001b[0;34m\u001b[0m\u001b[0m\n\u001b[1;32m    939\u001b[0m                        (self.__class__.__name__, name, self.__class__.__name__))\n\u001b[0;32m--> 940\u001b[0;31m                 \u001b[0;32mraise\u001b[0m \u001b[0mValueError\u001b[0m\u001b[0;34m(\u001b[0m\u001b[0mmsg\u001b[0m\u001b[0;34m)\u001b[0m\u001b[0;34m\u001b[0m\u001b[0m\n\u001b[0m\u001b[1;32m    941\u001b[0m             \u001b[0;32mif\u001b[0m \u001b[0misdefined\u001b[0m\u001b[0;34m(\u001b[0m\u001b[0mvalue\u001b[0m\u001b[0;34m)\u001b[0m\u001b[0;34m:\u001b[0m\u001b[0;34m\u001b[0m\u001b[0m\n\u001b[1;32m    942\u001b[0m                 \u001b[0mself\u001b[0m\u001b[0;34m.\u001b[0m\u001b[0m_check_requires\u001b[0m\u001b[0;34m(\u001b[0m\u001b[0mspec\u001b[0m\u001b[0;34m,\u001b[0m \u001b[0mname\u001b[0m\u001b[0;34m,\u001b[0m \u001b[0mvalue\u001b[0m\u001b[0;34m)\u001b[0m\u001b[0;34m\u001b[0m\u001b[0m\n",
      "\u001b[0;31mValueError\u001b[0m: Registration requires a value for input 'moving_image'. For a list of required inputs, see Registration.help()"
     ]
    }
   ],
   "source": [
    "# Rigid Reg node 1\n",
    "\n",
    "antsreg = Registration()\n",
    "antsreg.inputs.float = True\n",
    "antsreg.inputs.collapse_output_transforms=True\n",
    "\n",
    "antsreg.inputs.fixed_image=[]\n",
    "antsreg.inputs.moving_image=[]\n",
    "antsreg.inputs.initial_moving_transform_com=1\n",
    "antsreg.inputs.num_threads=1\n",
    "antsreg.inputs.output_warped_image=True\n",
    "\n",
    "antsreg.inputs.transforms=['Rigid']\n",
    "antsreg.inputs.terminal_output='stream'\n",
    "antsreg.inputs.winsorize_lower_quantile=0.005\n",
    "antsreg.inputs.winsorize_upper_quantile=0.995\n",
    "antsreg.inputs.convergence_threshold=[1e-06]\n",
    "antsreg.inputs.convergence_window_size=[10]\n",
    "antsreg.inputs.metric=[['MeanSquares','MI','MI']]\n",
    "antsreg.inputs.metric_weight=[[0.75,0.125,0.125]]\n",
    "                              \n",
    "antsreg.inputs.number_of_iterations=[[1000, 500, 250, 0]]\n",
    "antsreg.inputs.smoothing_sigmas=[[4, 3, 2, 1]]\n",
    "antsreg.inputs.sigma_units=['vox']\n",
    "antsreg.inputs.radius_or_number_of_bins=[[0,32,32]]\n",
    "\n",
    "antsreg.inputs.sampling_strategy=[['None',\n",
    "                               'Regular',\n",
    "                               'Regular']]\n",
    "antsreg.inputs.sampling_percentage=[[0,0.25,0.25]]\n",
    "\n",
    "antsreg.inputs.shrink_factors=[[12,8,4,2]]\n",
    "\n",
    "antsreg.inputs.transform_parameters=[[(0.1)]]\n",
    "\n",
    "antsreg.inputs.use_histogram_matching=True\n",
    "antsreg.inputs.write_composite_transform=True\n",
    "\n",
    "antsreg_rigid = Node(antsreg,name='test_antsreg_rigid')\n",
    "antsreg.cmdline"
   ]
  },
  {
   "cell_type": "code",
   "execution_count": 3,
   "metadata": {
    "collapsed": false
   },
   "outputs": [
    {
     "ename": "SyntaxError",
     "evalue": "invalid syntax (<ipython-input-3-f07305245a11>, line 6)",
     "output_type": "error",
     "traceback": [
      "\u001b[0;36m  File \u001b[0;32m\"<ipython-input-3-f07305245a11>\"\u001b[0;36m, line \u001b[0;32m6\u001b[0m\n\u001b[0;31m    apply_rigid_reg.inputs.input_image =\u001b[0m\n\u001b[0m                                         ^\u001b[0m\n\u001b[0;31mSyntaxError\u001b[0m\u001b[0;31m:\u001b[0m invalid syntax\n"
     ]
    }
   ],
   "source": [
    "# Apply Rigid Reg node 1\n",
    "\n",
    "from nipype.interfaces.ants import ApplyTransforms\n",
    "apply_rigid_reg = ApplyTransforms()\n",
    "apply_rigid_reg.inputs.dimension = 3\n",
    "apply_rigid_reg.inputs.input_image = \n",
    "apply_rigid_reg.inputs.reference_image =\n",
    "apply_rigid_reg.inputs.output_image = \n",
    "apply_rigid_reg.inputs.interpolation =\n",
    "apply_rigid_reg.inputs.default_value =\n",
    "apply_rigid_reg.inputs.transforms =\n",
    "apply_rigid_reg.inputs.invert_transform_flags = [False,False]\n",
    "\n",
    "apply_rigid = Node(apply_rigid_reg, name = 'apply_rigid')\n",
    "apply_rigid_reg.inputs.cmdline"
   ]
  },
  {
   "cell_type": "code",
   "execution_count": 4,
   "metadata": {
    "collapsed": false,
    "scrolled": false
   },
   "outputs": [],
   "source": [
    "# Establish input/output stream\n",
    "\n",
    "infosource = Node(IdentityInterface(fields=['subject_id']), name = \"infosource\")\n",
    "infosource.iterables = [('subject_id', subject_list)]\n",
    "\n",
    "lhtemplate_files = opj(datadir,'lhtemplate[0, 1, 2].nii.gz')\n",
    "#label_files = opj(datadir,'{subject_id}-lab.nii.gz')\n",
    "#t1_files = opj(datadir,'{subject_id}-t1-mask.nii.gz')\n",
    "#t2_files = opj(datadir,'{subject_id}-t2s-bfc-mask.nii.gz')\n",
    "mi_files = opj(datadir,\"{subject_id}-*.nii.gz\")\n",
    "#mi_files.format(img_modality=('lab','t1-mask','t2s-bfc-mask'))\n",
    "rigid_reg_mat_files = opj('/spin1/users/zhoud4/ants_scripts/lh{subject_id}-30-pass1-0GenericAffine.mat')\n",
    "\n",
    "templates = {'lhtemplate': lhtemplate_files,\n",
    "            'mi': mi_files,\n",
    "            'rigid_mat': rigid_reg_mat_files,}\n",
    "#            'label':label_files,\n",
    "#            't1':t1_files,\n",
    "#            't2':t2_files,}\n",
    "selectfiles = Node(SelectFiles(templates, force_lists=['lhtemplate','mi'], \n",
    "                               sort_filelist = True, \n",
    "                               base_directory=datadir), \n",
    "                               name = \"selectfiles\")\n",
    "#selectfiles.inputs.run = [{'lab','t1-mask','t2s-bfc-mask'}]\n",
    "\n",
    "datasink = Node(DataSink(base_directory= datadir, container = 'output_dir'), name = \"datasink\")\n",
    "\n",
    "substitutions = [('_subject_id_',''),\n",
    "                ]"
   ]
  },
  {
   "cell_type": "code",
   "execution_count": 5,
   "metadata": {
    "collapsed": false,
    "scrolled": true
   },
   "outputs": [
    {
     "ename": "ValueError",
     "evalue": "not enough values to unpack (expected 3, got 2)",
     "output_type": "error",
     "traceback": [
      "\u001b[0;31m---------------------------------------------------------------------------\u001b[0m",
      "\u001b[0;31mValueError\u001b[0m                                Traceback (most recent call last)",
      "\u001b[0;32m<ipython-input-5-85ed2fa32914>\u001b[0m in \u001b[0;36m<module>\u001b[0;34m()\u001b[0m\n\u001b[1;32m      9\u001b[0m \u001b[0;31m#                  ('rigid_mat','transforms'),('mi','input_image'),\u001b[0m\u001b[0;34m\u001b[0m\u001b[0;34m\u001b[0m\u001b[0m\n\u001b[1;32m     10\u001b[0m \u001b[0;31m#                   ('lhtemplate','reference_image')]\u001b[0m\u001b[0;34m\u001b[0m\u001b[0;34m\u001b[0m\u001b[0m\n\u001b[0;32m---> 11\u001b[0;31m                 \u001b[0;34m(\u001b[0m\u001b[0mantsreg_rigid\u001b[0m\u001b[0;34m,\u001b[0m \u001b[0mdatasink\u001b[0m\u001b[0;34m)\u001b[0m\u001b[0;34m\u001b[0m\u001b[0m\n\u001b[0m\u001b[1;32m     12\u001b[0m                  ])\n\u001b[1;32m     13\u001b[0m \u001b[0;34m\u001b[0m\u001b[0m\n",
      "\u001b[0;32m/data/zhoud4/python/envs/NiPype/lib/python3.5/site-packages/nipype/pipeline/engine/workflows.py\u001b[0m in \u001b[0;36mconnect\u001b[0;34m(self, *args, **kwargs)\u001b[0m\n\u001b[1;32m    177\u001b[0m \u001b[0;34m\u001b[0m\u001b[0m\n\u001b[1;32m    178\u001b[0m         \u001b[0mnewnodes\u001b[0m \u001b[0;34m=\u001b[0m \u001b[0;34m[\u001b[0m\u001b[0;34m]\u001b[0m\u001b[0;34m\u001b[0m\u001b[0m\n\u001b[0;32m--> 179\u001b[0;31m         \u001b[0;32mfor\u001b[0m \u001b[0msrcnode\u001b[0m\u001b[0;34m,\u001b[0m \u001b[0mdestnode\u001b[0m\u001b[0;34m,\u001b[0m \u001b[0m_\u001b[0m \u001b[0;32min\u001b[0m \u001b[0mconnection_list\u001b[0m\u001b[0;34m:\u001b[0m\u001b[0;34m\u001b[0m\u001b[0m\n\u001b[0m\u001b[1;32m    180\u001b[0m             \u001b[0;32mif\u001b[0m \u001b[0mself\u001b[0m \u001b[0;32min\u001b[0m \u001b[0;34m[\u001b[0m\u001b[0msrcnode\u001b[0m\u001b[0;34m,\u001b[0m \u001b[0mdestnode\u001b[0m\u001b[0;34m]\u001b[0m\u001b[0;34m:\u001b[0m\u001b[0;34m\u001b[0m\u001b[0m\n\u001b[1;32m    181\u001b[0m                 msg = ('Workflow connect cannot contain itself as node:'\n",
      "\u001b[0;31mValueError\u001b[0m: not enough values to unpack (expected 3, got 2)"
     ]
    }
   ],
   "source": [
    "# Create pipeline and connect nodes\n",
    "workflow = Workflow(name='normflow')\n",
    "workflow.base_dir = datadir\n",
    "#workflow.add_nodes([test_antsreg_rigid])\n",
    "workflow.connect([\n",
    "                (infosource, selectfiles, [('subject_id', 'subject_id')]),\n",
    "                (selectfiles, antsreg_rigid, [('lhtemplate','fixed_image'),('mi','moving_image')]),\n",
    "#                  [(antsreg_rigid, apply_rigid), \n",
    "#                  ('rigid_mat','transforms'),('mi','input_image'),\n",
    "#                   ('lhtemplate','reference_image')]\n",
    "                (antsreg_rigid, datasink)\n",
    "                 ])\n",
    "\n",
    "workflow.write_graph()\n",
    "workflow.run(plugin='SLURM')"
   ]
  }
 ],
 "metadata": {
  "kernelspec": {
   "display_name": "Python 3",
   "language": "python",
   "name": "python3"
  },
  "language_info": {
   "codemirror_mode": {
    "name": "ipython",
    "version": 3
   },
   "file_extension": ".py",
   "mimetype": "text/x-python",
   "name": "python",
   "nbconvert_exporter": "python",
   "pygments_lexer": "ipython3",
   "version": "3.5.2"
  }
 },
 "nbformat": 4,
 "nbformat_minor": 0
}
